{
  "nbformat": 4,
  "nbformat_minor": 0,
  "metadata": {
    "colab": {
      "provenance": [],
      "mount_file_id": "1Nq8t15Br6GH8nGu7bZZpAzr7Mm0HF33a",
      "authorship_tag": "ABX9TyMlGv3auS/bt/64BdU4G7/U",
      "include_colab_link": true
    },
    "kernelspec": {
      "name": "python3",
      "display_name": "Python 3"
    },
    "language_info": {
      "name": "python"
    }
  },
  "cells": [
    {
      "cell_type": "markdown",
      "metadata": {
        "id": "view-in-github",
        "colab_type": "text"
      },
      "source": [
        "<a href=\"https://colab.research.google.com/github/HH-H5/Landmarks/blob/main/CNN_test1.ipynb\" target=\"_parent\"><img src=\"https://colab.research.google.com/assets/colab-badge.svg\" alt=\"Open In Colab\"/></a>"
      ]
    },
    {
      "cell_type": "code",
      "source": [],
      "metadata": {
        "id": "GLabSUtEVxnh"
      },
      "execution_count": null,
      "outputs": []
    },
    {
      "cell_type": "code",
      "source": [
        "from PIL import Image\n",
        "import numpy as np"
      ],
      "metadata": {
        "id": "wmD8rKMVR_J1"
      },
      "execution_count": 25,
      "outputs": []
    },
    {
      "cell_type": "code",
      "source": [
        "#同じサイズの正方行列同士の内積\n",
        "def matrix_dot(a, b):\n",
        "  size, _ = a.shape\n",
        "  output = 0\n",
        "  for i in range(size):\n",
        "    output += np.dot(a[i], b[i])\n",
        "  return output"
      ],
      "metadata": {
        "id": "HSmk2EcXZR-f"
      },
      "execution_count": 26,
      "outputs": []
    },
    {
      "cell_type": "code",
      "source": [
        "# 畳み込み計算\n",
        "\n",
        "def convolute(input, fai):\n",
        "  n, m = input.shape\n",
        "  k, _ = fai.shape\n",
        "  output = np.zeros((n-k+1, m-k+1))\n",
        "  for i in range(n-k+1):\n",
        "    for j in range(m-k+1):\n",
        "      output[i][j] = matrix_dot(input[i:i+k,j:j+k], fai)\n",
        "\n",
        "  # print(\"Result of convolute()\")\n",
        "  # print(output)\n",
        "  return output"
      ],
      "metadata": {
        "id": "QJLlX3mHWGfL"
      },
      "execution_count": 67,
      "outputs": []
    },
    {
      "cell_type": "code",
      "source": [
        "#畳み込み後の行列を縦横２分割ずつの４分割してまるかバツかを推定するための評価値行列を得る\n",
        "def eval(input):\n",
        "  n, m = input.shape\n",
        "  output = np.zeros((2,2))\n",
        "  output[0,0] = input[0:n//2,0:m//2].max()\n",
        "  output[0,1] = input[0:n//2,m//2:m].max()\n",
        "  output[1,0] = input[n//2:n,0:m//2].max()\n",
        "  output[1,1] = input[n//2:n,m//2:m].max()\n",
        "\n",
        "  # print(\"Result of convolute()\")\n",
        "  # print(output)\n",
        "  return output"
      ],
      "metadata": {
        "id": "pHsTTKyFfERV"
      },
      "execution_count": 68,
      "outputs": []
    },
    {
      "cell_type": "code",
      "source": [
        "input_imagefile_path = 'drive/MyDrive/DeepLearningDATA/Sprite-0001.png' #@param {type:\"string\"}\n",
        "im = np.array(Image.open(input_imagefile_path))\n",
        "\n",
        "print(type(im))\n",
        "# <class 'numpy.ndarray'>\n",
        "\n",
        "#imの各要素の値を0~1の実数に変換\n",
        "im = im.astype(np.float32)\n",
        "im /= 255\n",
        "\n",
        "#Convolution\n",
        "#右スラッシュ/\n",
        "conv_1 = np.array([[-0.5, -0.5, 1], [-0.5, 1, -0.5], [1, -0.5, -0.5]])\n",
        "\n",
        "#左スラッシュ\\\n",
        "conv_2 = np.array([[1, -0.5, -0.5], [-0.5, 1, -0.5], [-0.5, -0.5, 1]])\n",
        "test1 = np.array([[0,0,1,1,0,0],\n",
        "                  [0,1,0,0,1,0],\n",
        "                  [1,0,0,0,0,1],\n",
        "                  [1,0,0,0,0,1],\n",
        "                  [0,1,0,0,1,0],\n",
        "                  [0,0,1,1,0,0]])\n",
        "test2 = np.array([[0,0,1,0,0],\n",
        "                 [0,1,0,1,0],\n",
        "                 [1,0,0,0,1],\n",
        "                 [0,1,0,1,0]\n",
        "                 ])\n",
        "input = im\n",
        "z1 = convolute(input, conv_1)\n",
        "z2 = convolute(input, conv_2)\n",
        "\n",
        "circle_pattern_to1 = np.array([[1,-1],[-1,1]])\n",
        "circle_pattern_to2 = np.array([[-1,1],[1,-1]])\n",
        "\n",
        "cross_pattern_to1 = np.array([[1,-1],[-1,1]])\n",
        "cross_pattern_to2 = np.array([[-1,1],[1,-1]])\n",
        "\n",
        "score1 = eval(z1)\n",
        "score2 = eval(z2)\n",
        "\n",
        "total_score = matrix_dot(score1, circle_pattern_to1) + matrix_dot(score2, circle_pattern_to2)\n",
        "\n",
        "total_score"
      ],
      "metadata": {
        "colab": {
          "base_uri": "https://localhost:8080/"
        },
        "id": "UdZEfWmJWFKc",
        "outputId": "34ab177f-f32f-447a-f86b-a96bde2e22b9"
      },
      "execution_count": 77,
      "outputs": [
        {
          "output_type": "stream",
          "name": "stdout",
          "text": [
            "<class 'numpy.ndarray'>\n"
          ]
        },
        {
          "output_type": "execute_result",
          "data": {
            "text/plain": [
              "-0.41960784047842026"
            ]
          },
          "metadata": {},
          "execution_count": 77
        }
      ]
    }
  ]
}